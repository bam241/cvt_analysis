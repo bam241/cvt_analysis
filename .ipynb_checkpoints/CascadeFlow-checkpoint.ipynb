{
 "cells": [
  {
   "cell_type": "code",
   "execution_count": 1,
   "metadata": {},
   "outputs": [
    {
     "name": "stdout",
     "output_type": "stream",
     "text": [
      "Populating the interactive namespace from numpy and matplotlib\n"
     ]
    }
   ],
   "source": [
    "# Render our plots inline\n",
    "%matplotlib inline\n",
    "%pylab inline  \n",
    "import numpy as np\n",
    "import pandas as pd\n",
    "import matplotlib as mpl\n",
    "import matplotlib.pyplot as plt\n",
    "import matplotlib.mlab as mlab\n",
    "\n",
    "# General Plotting Parameters\n",
    "mpl.rcParams['figure.figsize'] = (8,5)\n",
    "mpl.rcParams['lines.linewidth'] = 2.5\n",
    "mpl.rcParams['font.weight'] = 'bold'\n",
    "mpl.rcParams['axes.linewidth'] = 1.5\n",
    "mpl.rcParams['font.size'] = 14.\n",
    "mpl.rcParams['legend.fontsize'] = 12.\n",
    "mpl.rcParams['axes.labelsize'] = 12.\n",
    "mpl.rcParams['xtick.labelsize'] = 10.\n",
    "mpl.rcParams['ytick.labelsize'] = 10.\n",
    "mpl.rcParams['xtick.minor.pad'] = 4\n",
    "mpl.rcParams['xtick.direction'] = 'out'\n",
    "mpl.rcParams['ytick.direction'] = 'out'\n",
    "\n",
    "#Git says this is patched, but it doesn't work from Pip --upgrade 26-mar-2015\n",
    "#mpl.rcParams['xtick.minor.visible'] = True  \n",
    "\n",
    "# These are the \"Tableau 20\" colors as RGB.  \n",
    "tableau20 = [(31, 119, 180), (174, 199, 232), (255, 127, 14),\n",
    "             (255, 187, 120), (44, 160, 44), (152, 223, 138),\n",
    "              (148, 103, 189),\n",
    "             (197, 176, 213), (140, 86, 75), (196, 156, 148),  \n",
    "             (227, 119, 194), (247, 182, 210), (127, 127, 127),\n",
    "             (199, 199, 199), (188, 189, 34), (219, 219, 141),\n",
    "             (23, 190, 207), (158, 218, 229),(214, 39, 40), (255, 152, 150)]  \n",
    "    \n",
    "# Scale the RGB values to the [0, 1] range,\n",
    "# which is the format matplotlib accepts.  \n",
    "for i in range(len(tableau20)): \n",
    "    r, g, b = tableau20[i]  \n",
    "    tableau20[i] = (r / 255., g / 255., b / 255.)  \n",
    "    \n",
    "plot_dir = './' \n",
    "\n",
    "ps = 0"
   ]
  },
  {
   "cell_type": "code",
   "execution_count": 2,
   "metadata": {},
   "outputs": [],
   "source": [
    "import calc_enrich\n",
    "reload(calc_enrich)\n",
    "from calc_enrich import calc_del_U\n",
    "from calc_enrich import Npc_from_Nstages\n",
    "from calc_enrich import Nwc_from_Nstages\n",
    "from calc_enrich import calc_feed_flows\n",
    "from calc_enrich import find_N_stages\n",
    "from calc_enrich import design_cascade"
   ]
  },
  {
   "cell_type": "code",
   "execution_count": 3,
   "metadata": {},
   "outputs": [],
   "source": [
    "# centrifuge params \n",
    "#omega = 64000\n",
    "#d = 0.1  # m \n",
    "#Z = 2.0   # m\n",
    "#F_m_hrs = 70 # grams/hr  \n",
    "#T = 320.0   # K\n",
    "#cut = 0.5\n",
    "eff = 1.0 # centrifuge efficiency\n",
    "\n",
    "d = 0.15  # m \n",
    "Z = 1.0   # m\n",
    "F_m_hrs = 15*60*60/(1e3) # grams/hr  \n",
    "T = 320.0# K\n",
    "cut = 0.5\n",
    "omega = 485/(d/2)\n",
    "\n",
    "# cascade params\n",
    "Nfc = 0.007\n",
    "Npc = 0.035\n",
    "Nwc = 0.003\n",
    "Fc_month = 739 #kg/month\n",
    "\n",
    "# The feed enrichment to be used when using a cascade designed for LEU to produce HEU.\n",
    "Nfc_mod = 0.20\n",
    "Fc_month_mod = Fc_month #kg/month\n",
    "#Fc_month_mod = 46 #kg/month\n",
    "\n",
    "#unit conversions\n",
    "kg_sec2kg_month = 30.4*24*60*60\n",
    "v_a = omega * (d/2.0)\n",
    "F_m = F_m_hrs/(60*60*1000.0)\n",
    "Fc = Fc_month/kg_sec2kg_month\n",
    "Fc_mod = Fc_month_mod/kg_sec2kg_month\n",
    "\n",
    "# Comparison numbers (not needed for calculations)\n",
    "del_U_th_yr = 1.1 #swu/yr\n",
    "del_U_obs_yr = 0.71 #Swu/yr\n",
    "del_U_th = del_U_th_yr/(365.25*24*60*60) #kgSWU/sec\n",
    "del_U_obs = del_U_obs_yr/(365.25*24*60*60)\n",
    "\n",
    "Pc_month = 77 #kg/month\n",
    "Pc = Pc_month/kg_sec2kg_month\n",
    "\n",
    "qty_len = 8\n",
    "assay_len = 4"
   ]
  },
  {
   "cell_type": "code",
   "execution_count": 4,
   "metadata": {},
   "outputs": [
    {
     "name": "stdout",
     "output_type": "stream",
     "text": [
      "Stage   #Mach\t Feed    Product  Waste\t F_assay \tP_assay W_assay\n",
      "0 \t272 \t3762.18    1881.09    1881.09    0.007 \t0.0089 \t0.0055\n",
      "1 \t233 \t3224.73    1612.36    1612.36    0.0089 \t0.0112 \t0.007\n",
      "2 \t194 \t2687.27    1343.64    1343.64    0.0112 \t0.0142 \t0.0089\n",
      "3 \t156 \t2149.82    1074.91    1074.91    0.0142 \t0.018 \t0.0112\n",
      "4 \t117 \t1612.36    806.18    806.18    0.018 \t0.0228 \t0.0142\n",
      "5 \t78 \t1074.91    537.45    537.45    0.0228 \t0.0287 \t0.018\n",
      "6 \t39 \t537.45    268.73    268.73    0.0287 \t0.0362 \t0.0228\n",
      "-1 \t204 \t2821.64    1410.82    1410.82    0.0055 \t0.007 \t0.0044\n",
      "-2 \t136 \t1881.09    940.55    940.55    0.0044 \t0.0055 \t0.0034\n",
      "-3 \t68 \t940.55    470.27    470.27    0.0034 \t0.0044 \t0.0027\n",
      "total machines 1497\n"
     ]
    }
   ],
   "source": [
    "alpha, del_U, del_U_yr, dirac = calc_del_U(v_a, Z, d, F_m, T, cut, eff)\n",
    "\n",
    "# Find the number of stages needed for enriching and stripping \n",
    "# (don't use the stages_per_cascade fn because it only works when alpha is close to 1)\n",
    "\n",
    "ideal_enrich_stage, ideal_strip_stage = find_N_stages(alpha, Nfc, Npc, Nwc)\n",
    "feed_flows = calc_feed_flows(ideal_enrich_stage, ideal_strip_stage, Fc, cut)\n",
    "all_stages, n_machines = design_cascade(cut, alpha, del_U, Nfc, feed_flows, ideal_enrich_stage, ideal_strip_stage,\n",
    "                                        verbose=True, pretty=True, qty_len=qty_len)\n",
    "print \"total machines\", n_machines\n"
   ]
  },
  {
   "cell_type": "code",
   "execution_count": 5,
   "metadata": {},
   "outputs": [
    {
     "name": "stdout",
     "output_type": "stream",
     "text": [
      "stage -3 Predicted flow  0.000358090222399  actual flow  0.000358090222399\n",
      "stage -2 Predicted flow  0.000716180444799  actual flow  0.000716180444799\n",
      "stage -1 Predicted flow  0.0010742706672  actual flow  0.0010742706672\n",
      "stage 0 Predicted flow  0.0014323608896  actual flow  0.0014323608896\n",
      "stage 1 Predicted flow  0.00122773790537  actual flow  0.00122773790537\n",
      "stage 2 Predicted flow  0.00102311492114  actual flow  0.00102311492114\n",
      "stage 3 Predicted flow  0.000818491936913  actual flow  0.000818491936913\n",
      "stage 4 Predicted flow  0.000613868952685  actual flow  0.000613868952685\n",
      "stage 5 Predicted flow  0.000409245968456  actual flow  0.000409245968456\n",
      "stage 6 Predicted flow  0.000204622984228  actual flow  0.000204622984228\n"
     ]
    }
   ],
   "source": [
    "tot_flow = 0\n",
    "p_last = 0\n",
    "w_next = 0\n",
    "for i in range(len(all_stages)):\n",
    "    if (i == 0):\n",
    "        p_last = 0\n",
    "    else:\n",
    "        p_last = all_stages[i-1][3]\n",
    "    if (i == len(all_stages)-1):\n",
    "        w_next = 0\n",
    "    else:\n",
    "        w_next = all_stages[i+1][4]\n",
    "    # If on stage zero then add feed also\n",
    "    if (i == (ideal_strip_stage)):\n",
    "        tot_flow = p_last+w_next+Fc\n",
    "    else:\n",
    "        tot_flow =  p_last+w_next\n",
    "    print \"stage\", i - ideal_strip_stage,\"Predicted flow \", feed_flows[i],\" actual flow \", tot_flow\n"
   ]
  },
  {
   "cell_type": "code",
   "execution_count": 6,
   "metadata": {},
   "outputs": [
    {
     "name": "stdout",
     "output_type": "stream",
     "text": [
      "Casc. F (kg/s)  Casc. P\t\tCasc. W\t\t (P+W)/F\n",
      "0.000281356603314 \t0.000102311492114 \t0.0001790451112 \t1.0\n"
     ]
    }
   ],
   "source": [
    "## Check that mass is conserved in the cascade\n",
    "\n",
    "final_w = all_stages[0][4]\n",
    "final_p = all_stages[len(all_stages)-1][3]\n",
    "#final_f = round(Fc,qty_len)\n",
    "final_f = Fc\n",
    "\n",
    "res = final_f - final_p - final_w\n",
    "print \"Casc. F (kg/s)  Casc. P\\t\\tCasc. W\\t\\t (P+W)/F\"\n",
    "print  final_f, \"\\t\", final_p, \"\\t\", final_w, \"\\t\", (final_p+final_w)/final_f"
   ]
  },
  {
   "cell_type": "code",
   "execution_count": 7,
   "metadata": {},
   "outputs": [
    {
     "name": "stdout",
     "output_type": "stream",
     "text": [
      "Stage   #Mach\t Feed    Product  Waste\t F_assay \tP_assay W_assay\n",
      "0 \t272 \t3762.18    1881.09    1881.09    0.2 \t0.241 \t0.1645\n",
      "1 \t233 \t3224.73    1612.36    1612.36    0.241 \t0.2873 \t0.2\n",
      "2 \t194 \t2687.27    1343.64    1343.64    0.2873 \t0.3386 \t0.241\n",
      "3 \t156 \t2149.82    1074.91    1074.91    0.3386 \t0.394 \t0.2873\n",
      "4 \t117 \t1612.36    806.18    806.18    0.394 \t0.4523 \t0.3386\n",
      "5 \t78 \t1074.91    537.45    537.45    0.4523 \t0.5119 \t0.394\n",
      "6 \t39 \t537.45    268.73    268.73    0.5119 \t0.5711 \t0.4523\n",
      "-1 \t204 \t2821.64    1410.82    1410.82    0.1645 \t0.2 \t0.1342\n",
      "-2 \t136 \t1881.09    940.55    940.55    0.1342 \t0.1645 \t0.1088\n",
      "-3 \t68 \t940.55    470.27    470.27    0.1088 \t0.1342 \t0.0877\n"
     ]
    }
   ],
   "source": [
    "## Determine cascade production rate for off-design use\n",
    "\n",
    "Npc_mod = Npc_from_Nstages(alpha, Nfc_mod, ideal_enrich_stage)\n",
    "Nwc_mod = Nwc_from_Nstages(alpha, Nfc_mod, ideal_strip_stage)\n",
    "\n",
    "feed_flow_mod = calc_feed_flows(ideal_enrich_stage, ideal_strip_stage, Fc_mod, cut)\n",
    "\n",
    "mod_stages, n_m = design_cascade(cut, alpha, del_U, Nfc_mod, feed_flow_mod, ideal_enrich_stage,\n",
    "                                 ideal_strip_stage, verbose=True, pretty=True, qty_len=qty_len)\n"
   ]
  },
  {
   "cell_type": "code",
   "execution_count": 15,
   "metadata": {},
   "outputs": [
    {
     "name": "stdout",
     "output_type": "stream",
     "text": [
      "step size is 0.952380952381\n",
      "curr try 1 Tot mach 1425 # in last stage:  37\n",
      "curr try 2 Tot mach 1359 # in last stage:  36\n",
      "curr try 3 Tot mach 1293 # in last stage:  34\n",
      "curr try 4 Tot mach 1232 # in last stage:  32\n",
      "curr try 5 Tot mach 1175 # in last stage:  31\n",
      "curr try 6 Tot mach 1117 # in last stage:  29\n",
      "curr try 7 Tot mach 1066 # in last stage:  28\n",
      "curr try 8 Tot mach 1014 # in last stage:  27\n",
      "curr try 9 Tot mach 964 # in last stage:  25\n",
      "curr try 10 Tot mach 920 # in last stage:  24\n",
      "curr try 11 Tot mach 876 # in last stage:  23\n",
      "curr try 12 Tot mach 836 # in last stage:  22\n",
      "curr try 13 Tot mach 795 # in last stage:  21\n",
      "curr try 14 Tot mach 759 # in last stage:  20\n",
      "curr try 15 Tot mach 722 # in last stage:  19\n",
      "curr try 16 Tot mach 690 # in last stage:  18\n",
      "curr try 17 Tot mach 655 # in last stage:  17\n",
      "curr try 18 Tot mach 626 # in last stage:  17\n",
      "curr try 19 Tot mach 596 # in last stage:  16\n",
      "curr try 20 Tot mach 568 # in last stage:  15\n",
      "curr try 21 Tot mach 540 # in last stage:  14\n",
      "curr try 22 Tot mach 515 # in last stage:  14\n",
      "curr try 23 Tot mach 492 # in last stage:  13\n",
      "curr try 24 Tot mach 472 # in last stage:  13\n",
      "curr try 25 Tot mach 447 # in last stage:  12\n",
      "curr try 26 Tot mach 425 # in last stage:  11\n",
      "curr try 27 Tot mach 405 # in last stage:  11\n",
      "curr try 28 Tot mach 385 # in last stage:  10\n",
      "curr try 29 Tot mach 367 # in last stage:  10\n",
      "curr try 30 Tot mach 348 # in last stage:  9\n",
      "curr try 31 Tot mach 333 # in last stage:  9\n",
      "curr try 32 Tot mach 318 # in last stage:  9\n",
      "curr try 33 Tot mach 303 # in last stage:  8\n",
      "curr try 34 Tot mach 288 # in last stage:  8\n",
      "curr try 35 Tot mach 278 # in last stage:  8\n",
      "curr try 36 Tot mach 263 # in last stage:  7\n",
      "curr try 37 Tot mach 251 # in last stage:  7\n",
      "curr try 38 Tot mach 240 # in last stage:  7\n",
      "curr try 39 Tot mach 228 # in last stage:  6\n",
      "curr try 40 Tot mach 218 # in last stage:  6\n",
      "curr try 41 Tot mach 207 # in last stage:  6\n",
      "curr try 42 Tot mach 194 # in last stage:  5\n",
      "curr try 43 Tot mach 188 # in last stage:  5\n",
      "curr try 44 Tot mach 179 # in last stage:  5\n",
      "curr try 45 Tot mach 171 # in last stage:  5\n",
      "curr try 46 Tot mach 164 # in last stage:  5\n",
      "curr try 47 Tot mach 154 # in last stage:  4\n",
      "curr try 48 Tot mach 149 # in last stage:  4\n",
      "curr try 49 Tot mach 142 # in last stage:  4\n",
      "curr try 50 Tot mach 134 # in last stage:  4\n",
      "curr try 51 Tot mach 129 # in last stage:  4\n",
      "curr try 52 Tot mach 125 # in last stage:  4\n",
      "curr try 53 Tot mach 117 # in last stage:  3\n",
      "curr try 54 Tot mach 111 # in last stage:  3\n",
      "curr try 55 Tot mach 106 # in last stage:  3\n",
      "curr try 56 Tot mach 103 # in last stage:  3\n",
      "curr try 57 Tot mach 98 # in last stage:  3\n",
      "curr try 58 Tot mach 95 # in last stage:  3\n",
      "curr try 59 Tot mach 89 # in last stage:  3\n",
      "curr try 60 Tot mach 86 # in last stage:  3\n",
      "curr try 61 Tot mach 78 # in last stage:  2\n",
      "reduced flow to correct # 78\n",
      "Stage   #Mach\t Feed    Product  Waste\t F_assay \tP_assay W_assay\n",
      "0 \t14 \t191.82    95.91    95.91    0.007 \t0.0089 \t0.0055\n",
      "1 \t12 \t164.42    82.21    82.21    0.0089 \t0.0112 \t0.007\n",
      "2 \t10 \t137.01    68.51    68.51    0.0112 \t0.0142 \t0.0089\n",
      "3 \t8 \t109.61    54.81    54.81    0.0142 \t0.018 \t0.0112\n",
      "4 \t6 \t82.21    41.1    41.1    0.018 \t0.0228 \t0.0142\n",
      "5 \t4 \t54.81    27.4    27.4    0.0228 \t0.0287 \t0.018\n",
      "6 \t2 \t27.4    13.7    13.7    0.0287 \t0.0362 \t0.0228\n",
      "-1 \t11 \t143.86    71.93    71.93    0.0055 \t0.007 \t0.0044\n",
      "-2 \t7 \t95.91    47.95    47.95    0.0044 \t0.0055 \t0.0034\n",
      "-3 \t4 \t47.95    23.98    23.98    0.0034 \t0.0044 \t0.0027\n",
      "Cascade can process  37.6788114749  kg/month\n",
      "Final total machines 78\n",
      "[0, 14, 7.303065754153222e-05, 3.651532877076611e-05, 3.651532877076611e-05, 0.007, 0.0088728391055387882, 0.005520269621500316]\n"
     ]
    }
   ],
   "source": [
    "## Design Cascade based on available number of centrifuges, determine max Fc\n",
    "max_centrifuges = 80\n",
    "curr_feed = Fc\n",
    "optimal_feed = Fc\n",
    "step_size = 1.05  # MUST be a number Greater than 1. \n",
    "step = 1\n",
    "ideal_enrich_stage, ideal_strip_stage = find_N_stages(alpha, Nfc, Npc, Nwc)\n",
    "feed_flows = calc_feed_flows(ideal_enrich_stage, ideal_strip_stage, curr_feed, cut)\n",
    "all_stages, n_centrifuges = design_cascade(cut, alpha, del_U, Nfc, feed_flows, ideal_enrich_stage, ideal_strip_stage)\n",
    "\n",
    "optimum_number = False\n",
    "neg_inc = False\n",
    "pos_inc = False\n",
    "\n",
    "if (n_centrifuges < max_centrifuges):\n",
    "    pos_inc = True\n",
    "    step = step_size\n",
    "elif (n_centrifuges > max_centrifuges):\n",
    "    neg_inc = True\n",
    "    step = 1.0/step_size\n",
    "else:\n",
    "    optimum_number = True\n",
    "ntries=0\n",
    "print \"step size is\", step\n",
    "while (optimum_number == False) and (ntries < 100):\n",
    "    ntries+=1\n",
    "    last_feed = curr_feed\n",
    "    curr_feed *= step\n",
    "    feed_flows = calc_feed_flows(ideal_enrich_stage, ideal_strip_stage, curr_feed, cut)\n",
    "    all_stages, n_centrifuges = design_cascade(cut, alpha, del_U, Nfc, feed_flows, ideal_enrich_stage, \n",
    "                                               ideal_strip_stage)\n",
    "    print \"curr try\", ntries, \"Tot mach\", n_centrifuges, \"# in last stage: \", all_stages[-1][1]\n",
    "    if (all_stages[-1][1] < 1):\n",
    "        print \"not enough centrifuges to fill all stages\"\n",
    "        optimum_number = True\n",
    "        optimal_feed = last_feed\n",
    "    elif (neg_inc == True) and (n_centrifuges < max_centrifuges):\n",
    "        optimum_number = True\n",
    "        optimal_feed = curr_feed\n",
    "        print \"reduced flow to correct #\", n_centrifuges\n",
    "    elif (pos_inc == True) and (n_centrifuges > max_centrifuges):\n",
    "        optimum_number = True\n",
    "        optimal_feed = last_feed\n",
    "        print \"increased flow to correct #\", n_centrifuges\n",
    "\n",
    "final_feed_flows = calc_feed_flows(ideal_enrich_stage, ideal_strip_stage, optimal_feed, cut)\n",
    "final_stages, final_n_mach = design_cascade(cut, alpha, del_U, Nfc, final_feed_flows, \n",
    "                                            ideal_enrich_stage, ideal_strip_stage, verbose=True, pretty=True)\n",
    "print \"Cascade can process \", optimal_feed*kg_sec2kg_month, \" kg/month\"\n",
    "print \"Final total machines\", final_n_mach\n",
    "print final_stages[:][3]"
   ]
  },
  {
   "cell_type": "code",
   "execution_count": 9,
   "metadata": {},
   "outputs": [],
   "source": [
    "## A cascade with a fixed number of centrifuges has a maximum flow rate already defined\n",
    "## This flow rate and production does not change with change to feed assay. Therefore the\n",
    "## only things that change with a modified cascade are the product and waste assays"
   ]
  },
  {
   "cell_type": "code",
   "execution_count": 10,
   "metadata": {},
   "outputs": [
    {
     "name": "stderr",
     "output_type": "stream",
     "text": [
      "/Users/mbmcgarry/Library/Python/2.7/lib/python/site-packages/matplotlib/axes/_axes.py:475: UserWarning: No labelled objects found. Use label='...' kwarg on individual plots.\n",
      "  warnings.warn(\"No labelled objects found. \"\n"
     ]
    },
    {
     "data": {
      "image/png": "[encoded data removed]",
      "text/plain": [
       "<matplotlib.figure.Figure at 0x10e327810>"
      ]
     },
     "metadata": {},
     "output_type": "display_data"
    }
   ],
   "source": [
    "all_stages = []\n",
    "\n",
    "for s in range(len(final_stages)):\n",
    "    all_stages.append([final_stages[s][0],final_stages[s][1]])\n",
    "\n",
    "fs = np.array(all_stages)\n",
    "bar_width = 0.8\n",
    "bar_res = plt.bar(fs[:,0]-0.4, fs[:,1], bar_width)\n",
    "\n",
    "plt.xlabel('Stage')\n",
    "plt.ylabel('# Centrifuges')\n",
    "plt.title(str(int(final_n_mach)) + \" Centrifuge Cascade\")\n",
    "plt.legend()\n",
    "plt.ylim((0,1.2*fs[:,1].max()))\n",
    "plt.tight_layout()\n",
    "\n",
    "if ps == 1:\n",
    "    savefig(plot_dir + 'cascade_design.png')\n",
    "\n",
    "plt.show()\n"
   ]
  },
  {
   "cell_type": "code",
   "execution_count": null,
   "metadata": {
    "collapsed": true
   },
   "outputs": [],
   "source": []
  }
 ],
 "metadata": {
  "kernelspec": {
   "display_name": "Python 3",
   "language": "python",
   "name": "python3"
  },
  "language_info": {
   "codemirror_mode": {
    "name": "ipython",
    "version": 3
   },
   "file_extension": ".py",
   "mimetype": "text/x-python",
   "name": "python",
   "nbconvert_exporter": "python",
   "pygments_lexer": "ipython3",
   "version": "3.5.4"
  }
 },
 "nbformat": 4,
 "nbformat_minor": 1
}
