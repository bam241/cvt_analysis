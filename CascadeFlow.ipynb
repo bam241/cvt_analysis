{
 "cells": [
  {
   "cell_type": "code",
   "execution_count": 7,
   "metadata": {},
   "outputs": [
    {
     "name": "stdout",
     "output_type": "stream",
     "text": [
      "Populating the interactive namespace from numpy and matplotlib\n"
     ]
    }
   ],
   "source": [
    "# Render our plots inline\n",
    "%matplotlib inline\n",
    "%pylab inline  \n",
    "import numpy as np\n",
    "import pandas as pd\n",
    "import matplotlib as mpl\n",
    "import matplotlib.pyplot as plt\n",
    "import matplotlib.mlab as mlab\n",
    "\n",
    "# General Plotting Parameters\n",
    "mpl.rcParams['figure.figsize'] = (8,5)\n",
    "mpl.rcParams['lines.linewidth'] = 2.5\n",
    "mpl.rcParams['font.weight'] = 'bold'\n",
    "mpl.rcParams['axes.linewidth'] = 1.5\n",
    "mpl.rcParams['font.size'] = 14.\n",
    "mpl.rcParams['legend.fontsize'] = 12.\n",
    "mpl.rcParams['axes.labelsize'] = 12.\n",
    "mpl.rcParams['xtick.labelsize'] = 10.\n",
    "mpl.rcParams['ytick.labelsize'] = 10.\n",
    "mpl.rcParams['xtick.minor.pad'] = 4\n",
    "mpl.rcParams['xtick.direction'] = 'out'\n",
    "mpl.rcParams['ytick.direction'] = 'out'\n",
    "\n",
    "#Git says this is patched, but it doesn't work from Pip --upgrade 26-mar-2015\n",
    "#mpl.rcParams['xtick.minor.visible'] = True  \n",
    "\n",
    "# These are the \"Tableau 20\" colors as RGB.  \n",
    "tableau20 = [(31, 119, 180), (174, 199, 232), (255, 127, 14),\n",
    "             (255, 187, 120), (44, 160, 44), (152, 223, 138),\n",
    "              (148, 103, 189),\n",
    "             (197, 176, 213), (140, 86, 75), (196, 156, 148),  \n",
    "             (227, 119, 194), (247, 182, 210), (127, 127, 127),\n",
    "             (199, 199, 199), (188, 189, 34), (219, 219, 141),\n",
    "             (23, 190, 207), (158, 218, 229),(214, 39, 40), (255, 152, 150)]  \n",
    "    \n",
    "# Scale the RGB values to the [0, 1] range,\n",
    "# which is the format matplotlib accepts.  \n",
    "for i in range(len(tableau20)): \n",
    "    r, g, b = tableau20[i]  \n",
    "    tableau20[i] = (r / 255., g / 255., b / 255.)  \n",
    "    \n",
    "plot_dir = './' \n",
    "\n",
    "ps = 0"
   ]
  },
  {
   "cell_type": "code",
   "execution_count": 8,
   "metadata": {},
   "outputs": [],
   "source": [
    "import calc_enrich\n",
    "#reload(calc_enrich)\n",
    "from calc_enrich import calc_del_U\n",
    "from calc_enrich import Npc_from_Nstages\n",
    "from calc_enrich import Nwc_from_Nstages\n",
    "from calc_enrich import calc_feed_flows\n",
    "from calc_enrich import find_N_stages\n",
    "from calc_enrich import design_cascade"
   ]
  },
  {
   "cell_type": "code",
   "execution_count": 9,
   "metadata": {},
   "outputs": [],
   "source": [
    "# centrifuge params \n",
    "#omega = 64000\n",
    "#d = 0.1  # m \n",
    "#Z = 2.0   # m\n",
    "#F_m_hrs = 70 # grams/hr  \n",
    "#T = 320.0   # K\n",
    "#cut = 0.5\n",
    "eff = 1.0 # centrifuge efficiency\n",
    "\n",
    "d = 0.15  # m \n",
    "Z = 0.5   # m\n",
    "F_m_hrs = 15*60*60/(1e3) # grams/hr  \n",
    "T = 320.0# K\n",
    "cut = 0.5\n",
    "omega = 485/(d/2)\n",
    "\n",
    "# cascade params\n",
    "Nfc = 0.0071\n",
    "Npc = 0.035\n",
    "Nwc = 0.003\n",
    "Fc_month = 100 #kg/month\n",
    "\n",
    "# The feed enrichment to be used when using a cascade designed for LEU to produce HEU.\n",
    "Nfc_mod = 0.20\n",
    "Fc_month_mod = Fc_month #kg/month\n",
    "#Fc_month_mod = 46 #kg/month\n",
    "\n",
    "#unit conversions\n",
    "kg_sec2kg_month = 30.4*24*60*60\n",
    "v_a = omega * (d/2.0)\n",
    "F_m = F_m_hrs/(60*60*1000.0)\n",
    "Fc = Fc_month/kg_sec2kg_month\n",
    "Fc_mod = Fc_month_mod/kg_sec2kg_month\n",
    "\n",
    "# Comparison numbers (not needed for calculations)\n",
    "del_U_th_yr = 1.1 #swu/yr\n",
    "del_U_obs_yr = 0.71 #Swu/yr\n",
    "del_U_th = del_U_th_yr/(365.25*24*60*60) #kgSWU/sec\n",
    "del_U_obs = del_U_obs_yr/(365.25*24*60*60)\n",
    "\n",
    "Pc_month = 77 #kg/month\n",
    "Pc = Pc_month/kg_sec2kg_month\n",
    "\n",
    "qty_len = 8\n",
    "assay_len = 4"
   ]
  },
  {
   "cell_type": "code",
   "execution_count": 10,
   "metadata": {},
   "outputs": [
    {
     "name": "stdout",
     "output_type": "stream",
     "text": [
      "v_a  485.0  Z  0.5  d  0.15  F_m  1.5e-05  T  320.0  cut  0.5  eff  1.0\n",
      "1.16321031431 7.03232816847e-08\n"
     ]
    }
   ],
   "source": [
    "print(\"v_a \", v_a, \" Z \", Z, \" d \", d, \" F_m \", F_m, \" T \", T, \" cut \", cut, \" eff \", eff)\n",
    "\n",
    "alpha, del_U, del_U_yr, dirac = calc_del_U(v_a, Z, d, F_m, T, cut, eff)\n",
    "\n",
    "print(alpha, del_U)"
   ]
  },
  {
   "cell_type": "code",
   "execution_count": 79,
   "metadata": {},
   "outputs": [
    {
     "name": "stdout",
     "output_type": "stream",
     "text": [
      "Stage   #Mach\t Feed    Product  Waste\t F_assay \tP_assay W_assay\n",
      "0 \t 56 \t 776.47   388.24    388.24   0.0071 \t 0.0082 \t 0.0061\n",
      "1 \t 51 \t 705.88   352.94    352.94   0.0082 \t 0.0096 \t 0.0071\n",
      "2 \t 46 \t 635.29   317.65    317.65   0.0096 \t 0.0111 \t 0.0082\n",
      "3 \t 41 \t 564.71   282.35    282.35   0.0111 \t 0.0129 \t 0.0096\n",
      "4 \t 36 \t 494.12   247.06    247.06   0.0129 \t 0.015 \t 0.0111\n",
      "5 \t 31 \t 423.53   211.76    211.76   0.015 \t 0.0174 \t 0.0129\n",
      "6 \t 26 \t 352.94   176.47    176.47   0.0174 \t 0.0202 \t 0.015\n",
      "7 \t 21 \t 282.35   141.18    141.18   0.0202 \t 0.0234 \t 0.0174\n",
      "8 \t 16 \t 211.76   105.88    105.88   0.0234 \t 0.0271 \t 0.0202\n",
      "9 \t 11 \t 141.18   70.59    70.59   0.0271 \t 0.0314 \t 0.0234\n",
      "10 \t 6 \t 70.59   35.29    35.29   0.0314 \t 0.0364 \t 0.0271\n",
      "-1 \t 47 \t 647.06    323.53   323.53    0.0061 \t 0.0071 \t 0.0053\n",
      "-2 \t 38 \t 517.65    258.82   258.82    0.0053 \t 0.0061 \t 0.0045\n",
      "-3 \t 28 \t 388.24    194.12   194.12    0.0045 \t 0.0053 \t 0.0039\n",
      "-4 \t 19 \t 258.82    129.41   129.41    0.0039 \t 0.0045 \t 0.0033\n",
      "-5 \t 10 \t 129.41    64.71   64.71    0.0033 \t 0.0039 \t 0.0029\n",
      "total machines 483\n"
     ]
    }
   ],
   "source": [
    "alpha, del_U, del_U_yr, dirac = calc_del_U(v_a, Z, d, F_m, T, cut, eff)\n",
    "\n",
    "# Find the number of stages needed for enriching and stripping \n",
    "# (don't use the stages_per_cascade fn because it only works when alpha is close to 1)\n",
    "\n",
    "ideal_enrich_stage, ideal_strip_stage = find_N_stages(alpha, Nfc, Npc, Nwc)\n",
    "feed_flows = calc_feed_flows(ideal_enrich_stage, ideal_strip_stage, Fc, cut)\n",
    "all_stages, n_machines = design_cascade(cut, alpha, del_U, Nfc, feed_flows, ideal_enrich_stage, ideal_strip_stage,\n",
    "                                        verbose=True, pretty=True, qty_len=qty_len)\n",
    "print( \"total machines\", n_machines)\n"
   ]
  },
  {
   "cell_type": "code",
   "execution_count": 80,
   "metadata": {},
   "outputs": [
    {
     "name": "stdout",
     "output_type": "stream",
     "text": [
      "stage -5 Predicted flow  4.92704391698e-05  actual flow  4.92704391698e-05  flow per machine  4.92704391698e-06\n",
      "stage -4 Predicted flow  9.85408783396e-05  actual flow  9.85408783396e-05  flow per machine  5.18636201788e-06\n",
      "stage -3 Predicted flow  0.000147811317509  actual flow  0.000147811317509  flow per machine  5.27897562534e-06\n",
      "stage -2 Predicted flow  0.000197081756679  actual flow  0.000197081756679  flow per machine  5.18636201788e-06\n",
      "stage -1 Predicted flow  0.000246352195849  actual flow  0.000246352195849  flow per machine  5.2415360819e-06\n",
      "stage 0 Predicted flow  0.000295622635019  actual flow  0.000295622635019  flow per machine  5.27897562534e-06\n",
      "stage 1 Predicted flow  0.000268747850017  actual flow  0.000268747850017  flow per machine  5.26956568661e-06\n",
      "stage 2 Predicted flow  0.000241873065015  actual flow  0.000241873065015  flow per machine  5.25811010903e-06\n",
      "stage 3 Predicted flow  0.000214998280014  actual flow  0.000214998280014  flow per machine  5.24386048814e-06\n",
      "stage 4 Predicted flow  0.000188123495012  actual flow  0.000188123495012  flow per machine  5.22565263922e-06\n",
      "stage 5 Predicted flow  0.00016124871001  actual flow  0.00016124871001  flow per machine  5.20157129066e-06\n",
      "stage 6 Predicted flow  0.000134373925009  actual flow  0.000134373925009  flow per machine  5.16822788495e-06\n",
      "stage 7 Predicted flow  0.000107499140007  actual flow  0.000107499140007  flow per machine  5.11900666699e-06\n",
      "stage 8 Predicted flow  8.06243550052e-05  actual flow  8.06243550052e-05  flow per machine  5.03902218782e-06\n",
      "stage 9 Predicted flow  5.37495700034e-05  actual flow  5.37495700034e-05  flow per machine  4.88632454577e-06\n",
      "stage 10 Predicted flow  2.68747850017e-05  actual flow  2.68747850017e-05  flow per machine  4.47913083362e-06\n"
     ]
    }
   ],
   "source": [
    "tot_flow = 0\n",
    "p_last = 0\n",
    "w_next = 0\n",
    "for i in range(len(all_stages)):\n",
    "    if (i == 0):\n",
    "        p_last = 0\n",
    "    else:\n",
    "        p_last = all_stages[i-1][3]\n",
    "    if (i == len(all_stages)-1):\n",
    "        w_next = 0\n",
    "    else:\n",
    "        w_next = all_stages[i+1][4]\n",
    "    # If on stage zero then add feed also\n",
    "    if (i == (ideal_strip_stage)):\n",
    "        tot_flow = p_last+w_next+Fc\n",
    "    else:\n",
    "        tot_flow =  p_last+w_next\n",
    "    n_machine = all_stages[i][1]\n",
    "    print( \"stage\", i - ideal_strip_stage,\"Predicted flow \", feed_flows[i],\" actual flow \", tot_flow, \" flow per machine \", tot_flow/n_machine)\n"
   ]
  },
  {
   "cell_type": "code",
   "execution_count": 17,
   "metadata": {},
   "outputs": [
    {
     "name": "stdout",
     "output_type": "stream",
     "text": [
      "Casc. F (kg/s)  Casc. P\t\tCasc. W\t\t (P+W)/F\n",
      "3.8072612085769985e-05 \t 1.34373925009e-05 \t 2.46352195849e-05 \t 1.0\n"
     ]
    }
   ],
   "source": [
    "## Check that mass is conserved in the cascade\n",
    "\n",
    "final_w = all_stages[0][4]\n",
    "final_p = all_stages[len(all_stages)-1][3]\n",
    "#final_f = round(Fc,qty_len)\n",
    "final_f = Fc\n",
    "\n",
    "res = final_f - final_p - final_w\n",
    "print( \"Casc. F (kg/s)  Casc. P\\t\\tCasc. W\\t\\t (P+W)/F\")\n",
    "print(  final_f, \"\\t\", final_p, \"\\t\", final_w, \"\\t\", (final_p+final_w)/final_f)"
   ]
  },
  {
   "cell_type": "code",
   "execution_count": 18,
   "metadata": {},
   "outputs": [
    {
     "name": "stdout",
     "output_type": "stream",
     "text": [
      "Stage   #Mach\t Feed    Product  Waste\t F_assay \tP_assay W_assay\n",
      "0 \t 56 \t 776.47   388.24    388.24   0.2 \t 0.2253 \t 0.1769\n",
      "1 \t 51 \t 705.88   352.94    352.94   0.2253 \t 0.2528 \t 0.2\n",
      "2 \t 46 \t 635.29   317.65    317.65   0.2528 \t 0.2824 \t 0.2253\n",
      "3 \t 41 \t 564.71   282.35    282.35   0.2824 \t 0.314 \t 0.2528\n",
      "4 \t 36 \t 494.12   247.06    247.06   0.314 \t 0.3474 \t 0.2824\n",
      "5 \t 31 \t 423.53   211.76    211.76   0.3474 \t 0.3824 \t 0.314\n",
      "6 \t 26 \t 352.94   176.47    176.47   0.3824 \t 0.4187 \t 0.3474\n",
      "7 \t 21 \t 282.35   141.18    141.18   0.4187 \t 0.4559 \t 0.3824\n",
      "8 \t 16 \t 211.76   105.88    105.88   0.4559 \t 0.4936 \t 0.4187\n",
      "9 \t 11 \t 141.18   70.59    70.59   0.4936 \t 0.5313 \t 0.4559\n",
      "10 \t 6 \t 70.59   35.29    35.29   0.5313 \t 0.5687 \t 0.4936\n",
      "-1 \t 47 \t 647.06    323.53   323.53    0.1769 \t 0.2 \t 0.156\n",
      "-2 \t 38 \t 517.65    258.82   258.82    0.156 \t 0.1769 \t 0.1371\n",
      "-3 \t 28 \t 388.24    194.12   194.12    0.1371 \t 0.156 \t 0.1201\n",
      "-4 \t 19 \t 258.82    129.41   129.41    0.1201 \t 0.1371 \t 0.1051\n",
      "-5 \t 10 \t 129.41    64.71   64.71    0.1051 \t 0.1201 \t 0.0917\n"
     ]
    }
   ],
   "source": [
    "## Determine cascade production rate for off-design use\n",
    "\n",
    "Npc_mod = Npc_from_Nstages(alpha, Nfc_mod, ideal_enrich_stage)\n",
    "Nwc_mod = Nwc_from_Nstages(alpha, Nfc_mod, ideal_strip_stage)\n",
    "\n",
    "feed_flow_mod = calc_feed_flows(ideal_enrich_stage, ideal_strip_stage, Fc_mod, cut)\n",
    "\n",
    "mod_stages, n_m = design_cascade(cut, alpha, del_U, Nfc_mod, feed_flow_mod, ideal_enrich_stage,\n",
    "                                 ideal_strip_stage, verbose=True, pretty=True, qty_len=qty_len)\n"
   ]
  },
  {
   "cell_type": "code",
   "execution_count": 19,
   "metadata": {},
   "outputs": [
    {
     "name": "stdout",
     "output_type": "stream",
     "text": [
      "alpha  1.16321031431\n",
      "step size is 1.05\n",
      "curr try 1 Tot mach 508 # in last stage:  6\n",
      "curr try 2 Tot mach 533 # in last stage:  6\n",
      "curr try 3 Tot mach 559 # in last stage:  6\n",
      "curr try 4 Tot mach 587 # in last stage:  7\n",
      "curr try 5 Tot mach 612 # in last stage:  7\n",
      "curr try 6 Tot mach 647 # in last stage:  7\n",
      "curr try 7 Tot mach 678 # in last stage:  8\n",
      "curr try 8 Tot mach 712 # in last stage:  8\n",
      "curr try 9 Tot mach 745 # in last stage:  8\n",
      "curr try 10 Tot mach 784 # in last stage:  9\n",
      "curr try 11 Tot mach 820 # in last stage:  9\n",
      "curr try 12 Tot mach 863 # in last stage:  10\n",
      "curr try 13 Tot mach 904 # in last stage:  10\n",
      "curr try 14 Tot mach 950 # in last stage:  11\n",
      "curr try 15 Tot mach 997 # in last stage:  11\n",
      "curr try 16 Tot mach 1047 # in last stage:  12\n",
      "increased flow to correct # 1047\n",
      "Stage   #Mach\t Feed    Product  Waste\t F_assay \tP_assay W_assay\n",
      "0 \t 117 \t 1614.23   807.11    807.11   0.0071 \t 0.0082 \t 0.0061\n",
      "1 \t 106 \t 1467.48   733.74    733.74   0.0082 \t 0.0096 \t 0.0071\n",
      "2 \t 96 \t 1320.73   660.37    660.37   0.0096 \t 0.0111 \t 0.0082\n",
      "3 \t 85 \t 1173.98   586.99    586.99   0.0111 \t 0.0129 \t 0.0096\n",
      "4 \t 75 \t 1027.24   513.62    513.62   0.0129 \t 0.015 \t 0.0111\n",
      "5 \t 64 \t 880.49   440.24    440.24   0.015 \t 0.0174 \t 0.0129\n",
      "6 \t 53 \t 733.74   366.87    366.87   0.0174 \t 0.0202 \t 0.015\n",
      "7 \t 43 \t 586.99   293.5    293.5   0.0202 \t 0.0234 \t 0.0174\n",
      "8 \t 32 \t 440.24   220.12    220.12   0.0234 \t 0.0271 \t 0.0202\n",
      "9 \t 22 \t 293.5   146.75    146.75   0.0271 \t 0.0314 \t 0.0234\n",
      "10 \t 11 \t 146.75   73.37    73.37   0.0314 \t 0.0364 \t 0.0271\n",
      "-1 \t 97 \t 1345.19    672.59   672.59    0.0061 \t 0.0071 \t 0.0053\n",
      "-2 \t 78 \t 1076.15    538.08   538.08    0.0053 \t 0.0061 \t 0.0045\n",
      "-3 \t 59 \t 807.11    403.56   403.56    0.0045 \t 0.0053 \t 0.0039\n",
      "-4 \t 39 \t 538.08    269.04   269.04    0.0039 \t 0.0045 \t 0.0033\n",
      "-5 \t 20 \t 269.04    134.52   134.52    0.0033 \t 0.0039 \t 0.0029\n",
      "Cascade can process  207.8928179411368  kg/month\n",
      "Final total machines 997\n",
      "[-2, 78, 0.00040971881760844969, 0.00020485940880422484, 0.00020485940880422484, 0.0052571115467215631, 0.0061098840035781919, 0.0045228211352463044]\n"
     ]
    }
   ],
   "source": [
    "## Design Cascade based on available number of centrifuges, determine max Fc\n",
    "max_centrifuges = 1000\n",
    "curr_feed = Fc\n",
    "optimal_feed = Fc\n",
    "step_size = 1.05  # MUST be a number Greater than 1. \n",
    "step = 1\n",
    "print( \"alpha \", alpha)\n",
    "ideal_enrich_stage, ideal_strip_stage = find_N_stages(alpha, Nfc, Npc, Nwc)\n",
    "feed_flows = calc_feed_flows(ideal_enrich_stage, ideal_strip_stage, curr_feed, cut)\n",
    "all_stages, n_centrifuges = design_cascade(cut, alpha, del_U, Nfc, feed_flows, ideal_enrich_stage, ideal_strip_stage)\n",
    "\n",
    "optimum_number = False\n",
    "neg_inc = False\n",
    "pos_inc = False\n",
    "\n",
    "if (n_centrifuges < max_centrifuges):\n",
    "    pos_inc = True\n",
    "    step = step_size\n",
    "elif (n_centrifuges > max_centrifuges):\n",
    "    neg_inc = True\n",
    "    step = 1.0/step_size\n",
    "else:\n",
    "    optimum_number = True\n",
    "ntries=0\n",
    "print( \"step size is\", step)\n",
    "while (optimum_number == False) and (ntries < 100):\n",
    "    ntries+=1\n",
    "    last_feed = curr_feed\n",
    "    curr_feed *= step\n",
    "    feed_flows = calc_feed_flows(ideal_enrich_stage, ideal_strip_stage, curr_feed, cut)\n",
    "    all_stages, n_centrifuges = design_cascade(cut, alpha, del_U, Nfc, feed_flows, ideal_enrich_stage, \n",
    "                                               ideal_strip_stage)\n",
    "    print( \"curr try\", ntries, \"Tot mach\", n_centrifuges, \"# in last stage: \", all_stages[-1][1])\n",
    "    if (all_stages[-1][1] < 1):\n",
    "        print( \"not enough centrifuges to fill all stages\")\n",
    "        optimum_number = True\n",
    "        optimal_feed = last_feed\n",
    "    elif (neg_inc == True) and (n_centrifuges < max_centrifuges):\n",
    "        optimum_number = True\n",
    "        optimal_feed = curr_feed\n",
    "        print( \"reduced flow to correct #\", n_centrifuges)\n",
    "    elif (pos_inc == True) and (n_centrifuges > max_centrifuges):\n",
    "        optimum_number = True\n",
    "        optimal_feed = last_feed\n",
    "        print( \"increased flow to correct #\", n_centrifuges)\n",
    "\n",
    "final_feed_flows = calc_feed_flows(ideal_enrich_stage, ideal_strip_stage, optimal_feed, cut)\n",
    "final_stages, final_n_mach = design_cascade(cut, alpha, del_U, Nfc, final_feed_flows, \n",
    "                                            ideal_enrich_stage, ideal_strip_stage, verbose=True, pretty=True)\n",
    "print( \"Cascade can process \", optimal_feed*kg_sec2kg_month, \" kg/month\")\n",
    "print( \"Final total machines\", final_n_mach)\n",
    "print( final_stages[:][3])"
   ]
  },
  {
   "cell_type": "code",
   "execution_count": 36,
   "metadata": {},
   "outputs": [
    {
     "data": {
      "text/plain": [
       "11.461033"
      ]
     },
     "execution_count": 36,
     "metadata": {},
     "output_type": "execute_result"
    }
   ],
   "source": [
    "1614.23*0.0071"
   ]
  },
  {
   "cell_type": "code",
   "execution_count": 37,
   "metadata": {},
   "outputs": [
    {
     "data": {
      "text/plain": [
       "11.541673000000001"
      ]
     },
     "execution_count": 37,
     "metadata": {},
     "output_type": "execute_result"
    }
   ],
   "source": [
    "+807.11*(0.0082+0.0061)"
   ]
  },
  {
   "cell_type": "code",
   "execution_count": 38,
   "metadata": {},
   "outputs": [
    {
     "data": {
      "text/plain": [
       "8.205659"
      ]
     },
     "execution_count": 38,
     "metadata": {},
     "output_type": "execute_result"
    }
   ],
   "source": [
    "1345.19*0.0061 "
   ]
  },
  {
   "cell_type": "code",
   "execution_count": 40,
   "metadata": {},
   "outputs": [
    {
     "data": {
      "text/plain": [
       "1345.19"
      ]
     },
     "execution_count": 40,
     "metadata": {},
     "output_type": "execute_result"
    }
   ],
   "source": [
    "807.11+538.08"
   ]
  },
  {
   "cell_type": "code",
   "execution_count": 39,
   "metadata": {},
   "outputs": [
    {
     "data": {
      "text/plain": [
       "8.340116000000002"
      ]
     },
     "execution_count": 39,
     "metadata": {},
     "output_type": "execute_result"
    }
   ],
   "source": [
    "672.59*(0.0071+0.0053)"
   ]
  },
  {
   "cell_type": "code",
   "execution_count": 23,
   "metadata": {},
   "outputs": [],
   "source": [
    "## A cascade with a fixed number of centrifuges has a maximum flow rate already defined\n",
    "## This flow rate and production does not change with change to feed assay. Therefore the\n",
    "## only things that change with a modified cascade are the product and waste assays"
   ]
  },
  {
   "cell_type": "code",
   "execution_count": 24,
   "metadata": {},
   "outputs": [
    {
     "name": "stderr",
     "output_type": "stream",
     "text": [
      "/opt/local/Library/Frameworks/Python.framework/Versions/3.5/lib/python3.5/site-packages/matplotlib/axes/_axes.py:545: UserWarning: No labelled objects found. Use label='...' kwarg on individual plots.\n",
      "  warnings.warn(\"No labelled objects found. \"\n"
     ]
    },
    {
     "data": {
      "image/png": "[encoded data removed]",
      "text/plain": [
       "<matplotlib.figure.Figure at 0x10f057b70>"
      ]
     },
     "metadata": {},
     "output_type": "display_data"
    }
   ],
   "source": [
    "all_stages = []\n",
    "\n",
    "for s in range(len(final_stages)):\n",
    "    all_stages.append([final_stages[s][0],final_stages[s][1]])\n",
    "\n",
    "fs = np.array(all_stages)\n",
    "bar_width = 0.8\n",
    "bar_res = plt.bar(fs[:,0]-0.4, fs[:,1], bar_width)\n",
    "\n",
    "plt.xlabel('Stage')\n",
    "plt.ylabel('# Centrifuges')\n",
    "plt.title(str(int(final_n_mach)) + \" Centrifuge Cascade\")\n",
    "plt.legend()\n",
    "plt.ylim((0,1.2*fs[:,1].max()))\n",
    "plt.tight_layout()\n",
    "\n",
    "if ps == 1:\n",
    "    savefig(plot_dir + 'cascade_design.png')\n",
    "\n",
    "plt.show()\n"
   ]
  },
  {
   "cell_type": "code",
   "execution_count": 22,
   "metadata": {},
   "outputs": [
    {
     "data": {
      "text/plain": [
       "997"
      ]
     },
     "execution_count": 22,
     "metadata": {},
     "output_type": "execute_result"
    }
   ],
   "source": [
    "117+106+96+85+75+64+53+43+32+22+11+97+78+59+39+20"
   ]
  },
  {
   "cell_type": "code",
   "execution_count": 38,
   "metadata": {
    "scrolled": true
   },
   "outputs": [
    {
     "data": {
      "text/plain": [
       "207.89999999999998"
      ]
     },
     "execution_count": 38,
     "metadata": {},
     "output_type": "execute_result"
    }
   ],
   "source": [
    "(1614.23-672.59-733.74)"
   ]
  },
  {
   "cell_type": "code",
   "execution_count": 41,
   "metadata": {},
   "outputs": [
    {
     "data": {
      "text/plain": [
       "207.89000000000001"
      ]
     },
     "execution_count": 41,
     "metadata": {},
     "output_type": "execute_result"
    }
   ],
   "source": [
    "73.37+134.52"
   ]
  },
  {
   "cell_type": "code",
   "execution_count": 54,
   "metadata": {},
   "outputs": [
    {
     "data": {
      "text/plain": [
       "0.535108"
      ]
     },
     "execution_count": 54,
     "metadata": {},
     "output_type": "execute_result"
    }
   ],
   "source": [
    "(134.52+50)*0.0029# Tails"
   ]
  },
  {
   "cell_type": "code",
   "execution_count": 55,
   "metadata": {},
   "outputs": [
    {
     "data": {
      "text/plain": [
       "0.8506680000000002"
      ]
     },
     "execution_count": 55,
     "metadata": {},
     "output_type": "execute_result"
    }
   ],
   "source": [
    "(73.37 - 50)*0.0364 # Product"
   ]
  },
  {
   "cell_type": "code",
   "execution_count": 53,
   "metadata": {},
   "outputs": [
    {
     "data": {
      "text/plain": [
       "1.47609"
      ]
     },
     "execution_count": 53,
     "metadata": {},
     "output_type": "execute_result"
    }
   ],
   "source": [
    "207.89999999999998*0.0071 # Feed "
   ]
  },
  {
   "cell_type": "code",
   "execution_count": 46,
   "metadata": {},
   "outputs": [
    {
     "data": {
      "text/plain": [
       "1.5e-05"
      ]
     },
     "execution_count": 46,
     "metadata": {},
     "output_type": "execute_result"
    }
   ],
   "source": [
    "F_m"
   ]
  },
  {
   "cell_type": "code",
   "execution_count": 57,
   "metadata": {},
   "outputs": [
    {
     "data": {
      "text/plain": [
       "4.92704391698e-06"
      ]
     },
     "execution_count": 57,
     "metadata": {},
     "output_type": "execute_result"
    }
   ],
   "source": [
    "4.92704391698e-05 /10."
   ]
  },
  {
   "cell_type": "code",
   "execution_count": 58,
   "metadata": {},
   "outputs": [
    {
     "data": {
      "text/plain": [
       "5e-06"
      ]
     },
     "execution_count": 58,
     "metadata": {},
     "output_type": "execute_result"
    }
   ],
   "source": [
    "0.5e-5"
   ]
  },
  {
   "cell_type": "code",
   "execution_count": 59,
   "metadata": {},
   "outputs": [
    {
     "data": {
      "text/plain": [
       "[[-5, 20],\n",
       " [-4, 39],\n",
       " [-3, 59],\n",
       " [-2, 78],\n",
       " [-1, 97],\n",
       " [0, 117],\n",
       " [1, 106],\n",
       " [2, 96],\n",
       " [3, 85],\n",
       " [4, 75],\n",
       " [5, 64],\n",
       " [6, 53],\n",
       " [7, 43],\n",
       " [8, 32],\n",
       " [9, 22],\n",
       " [10, 11]]"
      ]
     },
     "execution_count": 59,
     "metadata": {},
     "output_type": "execute_result"
    }
   ],
   "source": [
    "all_stages"
   ]
  },
  {
   "cell_type": "code",
   "execution_count": null,
   "metadata": {},
   "outputs": [],
   "source": []
  }
 ],
 "metadata": {
  "kernelspec": {
   "display_name": "Python 3",
   "language": "python",
   "name": "python3"
  },
  "language_info": {
   "codemirror_mode": {
    "name": "ipython",
    "version": 3
   },
   "file_extension": ".py",
   "mimetype": "text/x-python",
   "name": "python",
   "nbconvert_exporter": "python",
   "pygments_lexer": "ipython3",
   "version": "3.5.4"
  }
 },
 "nbformat": 4,
 "nbformat_minor": 1
}
